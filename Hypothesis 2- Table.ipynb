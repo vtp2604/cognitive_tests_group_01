{
 "cells": [
  {
   "cell_type": "code",
   "execution_count": 3,
   "id": "886b5bba-4cc1-4bce-bdea-a3c1e338df9e",
   "metadata": {},
   "outputs": [
    {
     "name": "stdout",
     "output_type": "stream",
     "text": [
      "Defaulting to user installation because normal site-packages is not writeable\n",
      "Collecting openpyxl\n",
      "  Downloading openpyxl-3.1.2-py2.py3-none-any.whl (249 kB)\n",
      "\u001b[2K     \u001b[90m━━━━━━━━━━━━━━━━━━━━━━━━━━━━━━━━━━━━━━━\u001b[0m \u001b[32m250.0/250.0 kB\u001b[0m \u001b[31m4.6 MB/s\u001b[0m eta \u001b[36m0:00:00\u001b[0ma \u001b[36m0:00:01\u001b[0m\n",
      "\u001b[?25hCollecting et-xmlfile (from openpyxl)\n",
      "  Downloading et_xmlfile-1.1.0-py3-none-any.whl (4.7 kB)\n",
      "Installing collected packages: et-xmlfile, openpyxl\n",
      "Successfully installed et-xmlfile-1.1.0 openpyxl-3.1.2\n"
     ]
    }
   ],
   "source": [
    "!pip install openpyxl"
   ]
  },
  {
   "cell_type": "code",
   "execution_count": 4,
   "id": "53fb1677-4728-491f-beec-b2e6ba57922c",
   "metadata": {},
   "outputs": [
    {
     "name": "stdout",
     "output_type": "stream",
     "text": [
      "ANS Scores p-value: 0.4665940410089533\n",
      "Spatial Reasoning Scores p-value: 0.21338563866930912\n",
      "Maths Scores p-value: 0.5442175493011363\n",
      "Memory Scores p-value: 0.5767550233763108\n"
     ]
    }
   ],
   "source": [
    "import pandas as pd\n",
    "from scipy.stats import ttest_ind\n",
    "\n",
    "file_path = 'Hypothesis B data.xlsx'\n",
    "data = pd.read_excel(file_path)\n",
    "\n",
    "# Extracting the scores for male and female participants in each category\n",
    "ans_male = data['ANS Scores Male'].dropna()\n",
    "ans_female = data['ANS Scores Female'].dropna()\n",
    "\n",
    "spatial_male = data['Spatial Reasoning Scores Male'].dropna()\n",
    "spatial_female = data['Spatial Reasoning Scores Female'].dropna()\n",
    "\n",
    "maths_male = data['Maths Scores Male'].dropna()\n",
    "maths_female = data['Maths Scores Female'].dropna()\n",
    "\n",
    "memory_male = data['Memory Scores Male'].dropna()\n",
    "memory_female = data['Memory Scores Female'].dropna()\n",
    "\n",
    "# Performing t-tests assuming equal variance\n",
    "ttest_ans = ttest_ind(ans_male, ans_female, equal_var=True)\n",
    "ttest_spatial = ttest_ind(spatial_male, spatial_female, equal_var=True)\n",
    "ttest_maths = ttest_ind(maths_male, maths_female, equal_var=True)\n",
    "ttest_memory = ttest_ind(memory_male, memory_female, equal_var=True)\n",
    "\n",
    "# Printing p-values\n",
    "print(f'ANS Scores p-value: {ttest_ans.pvalue}')\n",
    "print(f'Spatial Reasoning Scores p-value: {ttest_spatial.pvalue}')\n",
    "print(f'Maths Scores p-value: {ttest_maths.pvalue}')\n",
    "print(f'Memory Scores p-value: {ttest_memory.pvalue}')"
   ]
  },
  {
   "cell_type": "code",
   "execution_count": 7,
   "id": "988b277a-6edb-4394-8933-9510c3426955",
   "metadata": {},
   "outputs": [
    {
     "data": {
      "text/html": [
       "<div>\n",
       "<style scoped>\n",
       "    .dataframe tbody tr th:only-of-type {\n",
       "        vertical-align: middle;\n",
       "    }\n",
       "\n",
       "    .dataframe tbody tr th {\n",
       "        vertical-align: top;\n",
       "    }\n",
       "\n",
       "    .dataframe thead th {\n",
       "        text-align: right;\n",
       "    }\n",
       "</style>\n",
       "<table border=\"1\" class=\"dataframe\">\n",
       "  <thead>\n",
       "    <tr style=\"text-align: right;\">\n",
       "      <th></th>\n",
       "      <th>Mean Score Male</th>\n",
       "      <th>SEM Male</th>\n",
       "      <th>Mean Score Female</th>\n",
       "      <th>SEM Female</th>\n",
       "      <th>Difference in Score</th>\n",
       "      <th>p-value</th>\n",
       "    </tr>\n",
       "  </thead>\n",
       "  <tbody>\n",
       "    <tr>\n",
       "      <th>ANS Test</th>\n",
       "      <td>10.636364</td>\n",
       "      <td>1.035193</td>\n",
       "      <td>11.777778</td>\n",
       "      <td>1.159095</td>\n",
       "      <td>-1.141414</td>\n",
       "      <td>0.466594</td>\n",
       "    </tr>\n",
       "    <tr>\n",
       "      <th>Maths Test</th>\n",
       "      <td>23.210526</td>\n",
       "      <td>1.176224</td>\n",
       "      <td>22.263158</td>\n",
       "      <td>1.005372</td>\n",
       "      <td>0.947368</td>\n",
       "      <td>0.544218</td>\n",
       "    </tr>\n",
       "    <tr>\n",
       "      <th>Spatial Reasoning Test</th>\n",
       "      <td>4.736842</td>\n",
       "      <td>0.523384</td>\n",
       "      <td>3.812500</td>\n",
       "      <td>0.493447</td>\n",
       "      <td>0.924342</td>\n",
       "      <td>0.213386</td>\n",
       "    </tr>\n",
       "    <tr>\n",
       "      <th>Memory Test</th>\n",
       "      <td>10.600000</td>\n",
       "      <td>0.653197</td>\n",
       "      <td>9.909091</td>\n",
       "      <td>0.995029</td>\n",
       "      <td>0.690909</td>\n",
       "      <td>0.576755</td>\n",
       "    </tr>\n",
       "  </tbody>\n",
       "</table>\n",
       "</div>"
      ],
      "text/plain": [
       "                        Mean Score Male  SEM Male  Mean Score Female  \\\n",
       "ANS Test                      10.636364  1.035193          11.777778   \n",
       "Maths Test                    23.210526  1.176224          22.263158   \n",
       "Spatial Reasoning Test         4.736842  0.523384           3.812500   \n",
       "Memory Test                   10.600000  0.653197           9.909091   \n",
       "\n",
       "                        SEM Female  Difference in Score   p-value  \n",
       "ANS Test                  1.159095            -1.141414  0.466594  \n",
       "Maths Test                1.005372             0.947368  0.544218  \n",
       "Spatial Reasoning Test    0.493447             0.924342  0.213386  \n",
       "Memory Test               0.995029             0.690909  0.576755  "
      ]
     },
     "execution_count": 7,
     "metadata": {},
     "output_type": "execute_result"
    }
   ],
   "source": [
    "import pandas as pd\n",
    "from scipy.stats import ttest_ind, sem\n",
    "\n",
    "data = pd.read_excel('Hypothesis B data.xlsx')\n",
    "\n",
    "#Calculating the mean, standard error of mean (SEM) and performing the T-tests\n",
    "def calculate_stats(male_scores, female_scores):\n",
    "    mean_male = male_scores.mean()\n",
    "    sem_male = sem(male_scores)\n",
    "\n",
    "    mean_female = female_scores.mean()\n",
    "    sem_female = sem(female_scores)\n",
    "\n",
    "    _, p_value = ttest_ind(male_scores, female_scores, equal_var=True)\n",
    "\n",
    "    return mean_male, sem_male, mean_female, sem_female, mean_male - mean_female, p_value\n",
    "\n",
    "# Calculating stats for each test\n",
    "ans_stats = calculate_stats(data['ANS Scores Male'].dropna(), data['ANS Scores Female'].dropna())\n",
    "maths_stats = calculate_stats(data['Maths Scores Male'].dropna(), data['Maths Scores Female'].dropna())\n",
    "spatial_stats = calculate_stats(data['Spatial Reasoning Scores Male'].dropna(), data['Spatial Reasoning Scores Female'].dropna())\n",
    "memory_stats = calculate_stats(data['Memory Scores Male'].dropna(), data['Memory Scores Female'].dropna())\n",
    "\n",
    "Hypothesis_B_table = pd.DataFrame([ans_stats, maths_stats, spatial_stats, memory_stats],\n",
    "                             columns=['Mean Score Male', 'SEM Male', 'Mean Score Female', \n",
    "                                      'SEM Female', 'Difference in Score', 'p-value'],\n",
    "                             index=['ANS Test', 'Maths Test', 'Spatial Reasoning Test', 'Memory Test'])\n",
    "\n",
    "Hypothesis_B_table\n"
   ]
  },
  {
   "cell_type": "code",
   "execution_count": null,
   "id": "4c808862-1d96-4da0-89ab-54ab920fae7d",
   "metadata": {},
   "outputs": [],
   "source": []
  }
 ],
 "metadata": {
  "kernelspec": {
   "display_name": "Python 3 (ipykernel)",
   "language": "python",
   "name": "python3"
  },
  "language_info": {
   "codemirror_mode": {
    "name": "ipython",
    "version": 3
   },
   "file_extension": ".py",
   "mimetype": "text/x-python",
   "name": "python",
   "nbconvert_exporter": "python",
   "pygments_lexer": "ipython3",
   "version": "3.10.10"
  }
 },
 "nbformat": 4,
 "nbformat_minor": 5
}
