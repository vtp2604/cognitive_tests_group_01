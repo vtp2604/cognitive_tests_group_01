{
 "cells": [
  {
   "cell_type": "code",
   "execution_count": 20,
   "id": "fe0f8342-18ab-45e2-a6d0-2740d75d0f78",
   "metadata": {},
   "outputs": [
    {
     "name": "stdout",
     "output_type": "stream",
     "text": [
      "                          rho value   p value\n",
      "ANS vs Memory              0.213424  0.198244\n",
      "ANS vs Spatial reasoning   0.164018  0.339136\n",
      "ANS vs Memory              0.200399  0.383756\n"
     ]
    }
   ],
   "source": [
    "import pandas as pd\n",
    "from scipy.stats import spearmanr\n",
    "\n",
    "df = pd.read_csv(\"scoredata.csv\")\n",
    "\n",
    "#score comparison between ANS and MATHS\n",
    "df = df.dropna(subset=['ANS', 'MATHS'])\n",
    "rhoANSMATHS, pANSMATHS = spearmanr(df['ANS'], df['MATHS'])\n",
    "\n",
    "#score comaprison between ANS and Spatial reasoning (SR)\n",
    "df = df.dropna(subset=['ANS', 'SR'])\n",
    "rhoANSSR, pANSSR = spearmanr(df['ANS'], df['SR'])\n",
    "\n",
    "#score comparison between ANS and Memory\n",
    "df = df.dropna(subset=['ANS', 'MEMORY'])\n",
    "rhoANSMEM, pANSMEM = spearmanr(df['ANS'], df['MEMORY'])\n",
    "\n",
    "data_dict = {\n",
    "    'rho value':[rhoANSMATHS, rhoANSSR, rhoANSMEM],\n",
    "    'p value':[pANSMATHS, pANSSR, pANSMEM]\n",
    "}\n",
    "\n",
    "dfdd = pd.DataFrame(data_dict, index = ['ANS vs Memory','ANS vs Spatial reasoning', 'ANS vs Memory'])\n",
    "\n",
    "print(dfdd)"
   ]
  },
  {
   "cell_type": "code",
   "execution_count": null,
   "id": "6e1ee4b8-7f95-4785-bd38-cc6e21649725",
   "metadata": {},
   "outputs": [],
   "source": []
  }
 ],
 "metadata": {
  "kernelspec": {
   "display_name": "Python 3 (ipykernel)",
   "language": "python",
   "name": "python3"
  },
  "language_info": {
   "codemirror_mode": {
    "name": "ipython",
    "version": 3
   },
   "file_extension": ".py",
   "mimetype": "text/x-python",
   "name": "python",
   "nbconvert_exporter": "python",
   "pygments_lexer": "ipython3",
   "version": "3.8.17"
  }
 },
 "nbformat": 4,
 "nbformat_minor": 5
}
