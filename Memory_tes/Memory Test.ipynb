{
 "cells": [
  {
   "cell_type": "code",
   "execution_count": 1,
   "id": "d309a63f-e57d-4ea3-b135-f7ad7a349a95",
   "metadata": {},
   "outputs": [],
   "source": [
    "from IPython.display import display, Image, clear_output, HTML\n",
    "import time"
   ]
  },
  {
   "cell_type": "code",
   "execution_count": 2,
   "id": "317fb350-47ac-484b-8f8f-ac59d296a9a1",
   "metadata": {},
   "outputs": [],
   "source": [
    "\n",
    "import requests\n",
    "from bs4 import BeautifulSoup\n",
    "import json\n",
    "\n",
    "def send_to_google_form(data_dict, form_url):\n",
    "    ''' Helper function to upload information to a corresponding google form \n",
    "        You are not expected to follow the code within this function!\n",
    "    '''\n",
    "    form_id = form_url[34:90]\n",
    "    view_form_url = f'https://docs.google.com/forms/d/e/{form_id}/viewform'\n",
    "    post_form_url = f'https://docs.google.com/forms/d/e/{form_id}/formResponse'\n",
    "\n",
    "    page = requests.get(view_form_url)\n",
    "    content = BeautifulSoup(page.content, \"html.parser\").find('script', type='text/javascript')\n",
    "    content = content.text[27:-1]\n",
    "    result = json.loads(content)[1][1]\n",
    "    form_dict = {}\n",
    "    \n",
    "    loaded_all = True\n",
    "    for item in result:\n",
    "        if item[1] not in data_dict:\n",
    "            print(f\"Form item {item[1]} not found. Data not uploaded.\")\n",
    "            loaded_all = False\n",
    "            return False\n",
    "        form_dict[f'entry.{item[4][0][0]}'] = data_dict[item[1]]\n",
    "    \n",
    "    post_result = requests.post(post_form_url, data=form_dict)\n",
    "    return post_result.ok"
   ]
  },
  {
   "cell_type": "code",
   "execution_count": 3,
   "id": "dd504911-fdd2-4027-9a47-534b2ed34742",
   "metadata": {},
   "outputs": [],
   "source": [
    "pic2x2_1 = Image(\"2x2.PNG\",width = 400)\n",
    "pic3x3_1 = Image(\"3x3.PNG\",width = 400)\n",
    "pic4x4_1 = Image(\"4x4.PNG\",width = 400)\n",
    "pic2x2_2 = Image(\"2x2_2.PNG\",width = 400)\n",
    "pic3x3_2 = Image(\"3x3_2.PNG\",width = 400)\n",
    "pic4x4_2 = Image(\"4x4_2.PNG\",width = 400)"
   ]
  },
  {
   "cell_type": "code",
   "execution_count": null,
   "id": "5cc3dff9-0700-4fd8-94ad-f33a24d5303a",
   "metadata": {},
   "outputs": [
    {
     "data": {
      "image/png": "[encoded data removed]",
      "text/plain": [
       "<IPython.core.display.Image object>"
      ]
     },
     "metadata": {
      "image/png": {
       "width": 400
      }
     },
     "output_type": "display_data"
    },
    {
     "data": {
      "text/html": [
       "<span style = 'color:purple;'> Qustions: </span>"
      ],
      "text/plain": [
       "<IPython.core.display.HTML object>"
      ]
     },
     "metadata": {},
     "output_type": "display_data"
    },
    {
     "name": "stdout",
     "output_type": "stream",
     "text": [
      "What is the color of pentagon?\n"
     ]
    },
    {
     "name": "stdin",
     "output_type": "stream",
     "text": [
      "Enter the color: \n"
     ]
    },
    {
     "name": "stdout",
     "output_type": "stream",
     "text": [
      "In what direction most the arrows are pointting to?\n"
     ]
    },
    {
     "name": "stdin",
     "output_type": "stream",
     "text": [
      "Enter the direction: \n"
     ]
    },
    {
     "name": "stdout",
     "output_type": "stream",
     "text": [
      "What was the shape between pentagon and triangle in the last row?\n"
     ]
    },
    {
     "name": "stdin",
     "output_type": "stream",
     "text": [
      "Enter the shape: \n"
     ]
    },
    {
     "name": "stdout",
     "output_type": "stream",
     "text": [
      "How many cross shape was present in the grid?\n"
     ]
    },
    {
     "name": "stdin",
     "output_type": "stream",
     "text": [
      "Enter the arabic number: \n"
     ]
    },
    {
     "name": "stdout",
     "output_type": "stream",
     "text": [
      "What was the shape right to the inverted triangle?\n"
     ]
    },
    {
     "name": "stdin",
     "output_type": "stream",
     "text": [
      "Enter the shape: \n"
     ]
    },
    {
     "name": "stdout",
     "output_type": "stream",
     "text": [
      "How many triangles are present in the grid?\n"
     ]
    },
    {
     "name": "stdin",
     "output_type": "stream",
     "text": [
      "Enter the arabic number: \n"
     ]
    },
    {
     "name": "stdout",
     "output_type": "stream",
     "text": [
      "Press enter when you are ready to see the final result.\n"
     ]
    }
   ],
   "source": [
    "\n",
    "#introduction\n",
    "html_out = HTML(\"<h1 style = 'color:purple;'>Welcome to the Memory Test!</h1>\")\n",
    "display(html_out)\n",
    "time.sleep(1)\n",
    "\n",
    "html_out = HTML(\"<span style = 'color:red;'> You will be given some time to remember the figures in the following grids. </span>\")\n",
    "display(html_out)\n",
    "time.sleep(1)\n",
    "html_out = HTML(\"<span style = 'color:orange;'> At the end, you will be asked to answer a few questions regarding to the shape, color, and position. </span>\")\n",
    "display(html_out)\n",
    "time.sleep(1)\n",
    "html_out = HTML(\"<span style = 'color:green;'> Don't forget to keep letters in the lower case. </span>\")\n",
    "display(html_out)\n",
    "time.sleep(1)\n",
    "html_out = HTML(\"<span style = 'color:blue;'> Now, let's get started! </span>\")\n",
    "display(html_out)\n",
    "\n",
    "print(\"Please read:\")\n",
    "print(\"\")\n",
    "print(\"we wish to record your response data\")\n",
    "print(\"to an anonymised public data repository. \")\n",
    "print(\"Your data will be used for educational teaching purposes\")\n",
    "print(\"practising data analysis and visualisation.\")\n",
    "print(\"\")\n",
    "print(\"Please type yes in the box below if you consent to the upload.\")\n",
    "result = input(\"> \")\n",
    "if result == \"yes\":\n",
    "    print(\"Thanks - your data will be uploaded.\")\n",
    "    \n",
    "\n",
    "else:\n",
    "    print(\"No problem we hope you enjoyed the test.\")\n",
    "\n",
    "global name\n",
    "print(\"Press enter your name to start.\")\n",
    "name = input(\"\")\n",
    "\n",
    "start_time = time.time()\n",
    "\n",
    "# Grid 1\n",
    "totalScore1 = 3\n",
    "def answer_if1(i):\n",
    "    que1 = ['What is the color of triangle?','What shape is shown in color yellow?','What shape was in the top left corner?']\n",
    "    answer1 = ['blue','pentagon','circle']\n",
    "    print(que1[i])\n",
    "    hint1= ['Enter the color:','Enter the shape:','Enter the shape:']\n",
    "    ans = input(hint1[i])\n",
    "    global totalScore1\n",
    "    if ans == answer1[i]:\n",
    "    \tpass\n",
    "    else:\n",
    "    \ttotalScore1 -= 1\n",
    "    return 0\n",
    "html_out = HTML(\"<h2 style = 'color:purple;'> Grid 1 </h2>\")\n",
    "display(html_out)\n",
    "print(\"\"\"This is a 2x2 grid includes: circle, triangle, arrow, pentagon. \n",
    "You are given 10 seconds to remember.\"\"\")\n",
    "display(pic2x2_1)\n",
    "time.sleep(10)\n",
    "clear_output(wait=False)\n",
    "\n",
    "display(pic2x2_2)\n",
    "html_out = HTML(\"<span style = 'color:purple;'> Qustions: </span>\")\n",
    "display(html_out)\n",
    "\n",
    "for i in range (3):\n",
    "    answer_if1(i)\n",
    "    \n",
    "print(\"Press enter when you are ready to see the result.\")\n",
    "input(\"\")\n",
    "print(f\"Your total score in Grid 1 is {totalScore1}/3\")\n",
    "\n",
    "#Grid 2\n",
    "print(\"Press enter when you are ready for 3x3 grid.\")\n",
    "input(\"\")\n",
    "totalScore2 = 6\n",
    "def answer_if2(i):\n",
    "    que2 = ['How many circles in the grid?','What shape is shown in color yellow in the first row?','What shape was in the middle?','What shape was in the middle bottom?','What shape is shown in color grey in the last row?','What shape is shown in color green?']\n",
    "    answer2 = ['3','pentagon','cross','triangle','circle','arrow']\n",
    "    print(que2[i])\n",
    "    hint2= ['Enter the arabic number:','Enter the shape:','Enter the shape:','Enter the shape:','Enter the shape:','Enter the shape:']\n",
    "    ans = input(hint2[i])\n",
    "    global totalScore2\n",
    "    if ans == answer2[i]:\n",
    "    \tpass\n",
    "    else:\n",
    "    \ttotalScore2 -= 1\n",
    "    return 0\n",
    "html_out = HTML(\"<h2 style = 'color:purple;'> Grid 2 </h2>\")\n",
    "display(html_out)\n",
    "print(\"\"\"This is a 3x3 grid includes: circle, triangle, arrow, pentagon and cross. \n",
    "You are given 20 seconds to remember.\"\"\")\n",
    "display(pic3x3_1)\n",
    "time.sleep(20)\n",
    "clear_output(wait=False)\n",
    "\n",
    "display(pic3x3_2)\n",
    "html_out = HTML(\"<span style = 'color:purple;'> Qustions: </span>\")\n",
    "display(html_out)\n",
    "\n",
    "for i in range (6):\n",
    "    answer_if2(i)\n",
    "    \n",
    "print(\"Press enter when you are ready to see the result.\")\n",
    "input(\"\")\n",
    "print(f\"Your total score in Grid 2 is {totalScore2}/6\")\n",
    "\n",
    "# Grid 3\n",
    "print(\"Press enter when you are ready for 4x4 grid.\")\n",
    "input(\"\")\n",
    "totalScore3 = 6\n",
    "def answer_if3(i):\n",
    "    que3 = ['What is the color of pentagon?','In what direction most the arrows are pointting to?','What was the shape between pentagon and triangle in the last row?','How many cross shape was present in the grid?','What was the shape right to the inverted triangle?','How many triangles are present in the grid?']\n",
    "    answer3 = ['yellow','left','circle','3','pentagon','3']\n",
    "    print(que3[i])\n",
    "    hint3 = ['Enter the color:','Enter the direction:','Enter the shape:','Enter the arabic number:','Enter the shape:','Enter the arabic number:']\n",
    "    ans = input(hint3[i])\n",
    "    global totalScore3\n",
    "    if ans == answer3[i]:\n",
    "    \tpass\n",
    "    else:\n",
    "    \ttotalScore3 -= 1\n",
    "    return 0\n",
    "html_out = HTML(\"<h2 style = 'color:purple;'> Grid 3 </h2>\")\n",
    "display(html_out)\n",
    "print(\"\"\"This is a 4x4 grid includes: circle, triangle, arrow, pentagon, cross, and inverted triangle. \n",
    "You are given 40 seconds to remember.\"\"\")\n",
    "display(pic4x4_1)\n",
    "time.sleep(40)\n",
    "clear_output(wait=False)\n",
    "\n",
    "display(pic4x4_2)\n",
    "\n",
    "html_out = HTML(\"<span style = 'color:purple;'> Qustions: </span>\")\n",
    "display(html_out)\n",
    "\n",
    "for i in range (6):\n",
    "    answer_if3(i)\n",
    "    \n",
    "end_time = time.time()\n",
    "    \n",
    "time_taken = end_time - start_time\n",
    "\n",
    "print(\"Press enter when you are ready to see the final result.\")\n",
    "input(\"\")\n",
    "print(f\"Your total score in Grid 3 is {totalScore3}/6\")\n",
    "\n",
    "# Display Results\n",
    "totalscore = totalScore1+totalScore2+totalScore3\n",
    "print(f'Thank you for completing the Memory Test. Your overall score is:{totalscore}/15')\n",
    "print(f'The total time taken is {time_taken:.2f} seconds')\n",
    "\n",
    "data_dict = {\n",
    "    'name': name,\n",
    "    'score': totalscore,\n",
    "    'totaltime': time_taken}\n",
    "\n",
    "form_url = \"https://docs.google.com/forms/d/e/1FAIpQLSf2oKJbx2e3ZKrKD78baWph62irtwxPLHVIaPcpYfcZM7UIWw/viewform\""
   ]
  },
  {
   "cell_type": "code",
   "execution_count": null,
   "id": "a1b1e9dd-2004-40b1-8578-b316d625110d",
   "metadata": {},
   "outputs": [],
   "source": []
  }
 ],
 "metadata": {
  "kernelspec": {
   "display_name": "Python 3 (ipykernel)",
   "language": "python",
   "name": "python3"
  },
  "language_info": {
   "codemirror_mode": {
    "name": "ipython",
    "version": 3
   },
   "file_extension": ".py",
   "mimetype": "text/x-python",
   "name": "python",
   "nbconvert_exporter": "python",
   "pygments_lexer": "ipython3",
   "version": "3.10.10"
  }
 },
 "nbformat": 4,
 "nbformat_minor": 5
}
